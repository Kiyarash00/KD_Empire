{
 "cells": [
  {
   "cell_type": "code",
   "execution_count": 1,
   "id": "e5b5381b-6007-480e-b84c-d9b360502694",
   "metadata": {},
   "outputs": [
    {
     "name": "stdout",
     "output_type": "stream",
     "text": [
      "Requirement already satisfied: kagglehub in e:\\programming\\anacoda\\file\\lib\\site-packages (0.3.12)\n",
      "Requirement already satisfied: packaging in e:\\programming\\anacoda\\file\\lib\\site-packages (from kagglehub) (24.1)\n",
      "Requirement already satisfied: pyyaml in e:\\programming\\anacoda\\file\\lib\\site-packages (from kagglehub) (6.0.1)\n",
      "Requirement already satisfied: requests in e:\\programming\\anacoda\\file\\lib\\site-packages (from kagglehub) (2.32.3)\n",
      "Requirement already satisfied: tqdm in e:\\programming\\anacoda\\file\\lib\\site-packages (from kagglehub) (4.66.5)\n",
      "Requirement already satisfied: charset-normalizer<4,>=2 in e:\\programming\\anacoda\\file\\lib\\site-packages (from requests->kagglehub) (3.3.2)\n",
      "Requirement already satisfied: idna<4,>=2.5 in e:\\programming\\anacoda\\file\\lib\\site-packages (from requests->kagglehub) (3.7)\n",
      "Requirement already satisfied: urllib3<3,>=1.21.1 in e:\\programming\\anacoda\\file\\lib\\site-packages (from requests->kagglehub) (2.2.3)\n",
      "Requirement already satisfied: certifi>=2017.4.17 in e:\\programming\\anacoda\\file\\lib\\site-packages (from requests->kagglehub) (2025.7.14)\n",
      "Requirement already satisfied: colorama in e:\\programming\\anacoda\\file\\lib\\site-packages (from tqdm->kagglehub) (0.4.6)\n",
      "Note: you may need to restart the kernel to use updated packages.\n"
     ]
    }
   ],
   "source": [
    "pip install kagglehub"
   ]
  },
  {
   "cell_type": "code",
   "execution_count": 2,
   "id": "cfa8733b-c4d0-4da0-b8cf-745b840db627",
   "metadata": {},
   "outputs": [],
   "source": [
    "import kaggle\n",
    "import os\n",
    "import shutil\n",
    "#! cp kaggle.json ~/.kaggle/\n",
    "#I Received An Error After Running Code Below(I Searched And Found Out It Works Only For Linux And Mac) \n",
    "#! mkdir ~/.kaggle\n",
    "#! chmod 600 ~/.kaggle/kaggle.json\n",
    "\n",
    "#This Code Is Windows-Friendly \n",
    "os.makedirs(os.path.expanduser(\"~/.kaggle\"), exist_ok=True) \n",
    "shutil.copy(\"kaggle.json\", os.path.expanduser(\"~/.kaggle/kaggle.json\"))\n",
    "os.chmod(os.path.expanduser(\"~/.kaggle/kaggle.json\"), 0o600)"
   ]
  },
  {
   "cell_type": "code",
   "execution_count": 3,
   "id": "1e9e295c-5d64-4a60-8bc4-3828accf6db5",
   "metadata": {},
   "outputs": [],
   "source": [
    "# I Couldn't Import The Dataset Due To 403 Client Error So I Downloaded Another Dataset\n",
    "import pandas as pd\n",
    "from sklearn.preprocessing import LabelEncoder\n",
    "from sklearn.feature_extraction.text import CountVectorizer\n",
    "from sklearn.metrics.pairwise import cosine_similarity\n",
    "from sklearn.neighbors import NearestNeighbors\n",
    "import numpy as np\n",
    "import time"
   ]
  },
  {
   "cell_type": "code",
   "execution_count": 4,
   "id": "28888de7-a65a-4704-ba58-26d68263661b",
   "metadata": {},
   "outputs": [
    {
     "data": {
      "text/html": [
       "<div>\n",
       "<style scoped>\n",
       "    .dataframe tbody tr th:only-of-type {\n",
       "        vertical-align: middle;\n",
       "    }\n",
       "\n",
       "    .dataframe tbody tr th {\n",
       "        vertical-align: top;\n",
       "    }\n",
       "\n",
       "    .dataframe thead th {\n",
       "        text-align: right;\n",
       "    }\n",
       "</style>\n",
       "<table border=\"1\" class=\"dataframe\">\n",
       "  <thead>\n",
       "    <tr style=\"text-align: right;\">\n",
       "      <th></th>\n",
       "      <th>CustomerID</th>\n",
       "      <th>ProductID</th>\n",
       "      <th>Quantity</th>\n",
       "      <th>Price</th>\n",
       "      <th>TransactionDate</th>\n",
       "      <th>PaymentMethod</th>\n",
       "      <th>StoreLocation</th>\n",
       "      <th>ProductCategory</th>\n",
       "      <th>DiscountApplied(%)</th>\n",
       "      <th>TotalAmount</th>\n",
       "    </tr>\n",
       "  </thead>\n",
       "  <tbody>\n",
       "    <tr>\n",
       "      <th>0</th>\n",
       "      <td>109318</td>\n",
       "      <td>C</td>\n",
       "      <td>7</td>\n",
       "      <td>80.079844</td>\n",
       "      <td>12/26/2023 12:32</td>\n",
       "      <td>Cash</td>\n",
       "      <td>176 Andrew Cliffs\\nBaileyfort, HI 93354</td>\n",
       "      <td>Books</td>\n",
       "      <td>18.677100</td>\n",
       "      <td>455.862764</td>\n",
       "    </tr>\n",
       "    <tr>\n",
       "      <th>1</th>\n",
       "      <td>993229</td>\n",
       "      <td>C</td>\n",
       "      <td>4</td>\n",
       "      <td>75.195229</td>\n",
       "      <td>8/5/2023 0:00</td>\n",
       "      <td>Cash</td>\n",
       "      <td>11635 William Well Suite 809\\nEast Kara, MT 19483</td>\n",
       "      <td>Home Decor</td>\n",
       "      <td>14.121365</td>\n",
       "      <td>258.306546</td>\n",
       "    </tr>\n",
       "    <tr>\n",
       "      <th>2</th>\n",
       "      <td>579675</td>\n",
       "      <td>A</td>\n",
       "      <td>8</td>\n",
       "      <td>31.528816</td>\n",
       "      <td>3/11/2024 18:51</td>\n",
       "      <td>Cash</td>\n",
       "      <td>910 Mendez Ville Suite 909\\nPort Lauraland, MO...</td>\n",
       "      <td>Books</td>\n",
       "      <td>15.943701</td>\n",
       "      <td>212.015651</td>\n",
       "    </tr>\n",
       "    <tr>\n",
       "      <th>3</th>\n",
       "      <td>799826</td>\n",
       "      <td>D</td>\n",
       "      <td>5</td>\n",
       "      <td>98.880218</td>\n",
       "      <td>10/27/2023 22:00</td>\n",
       "      <td>PayPal</td>\n",
       "      <td>87522 Sharon Corners Suite 500\\nLake Tammy, MO...</td>\n",
       "      <td>Books</td>\n",
       "      <td>6.686337</td>\n",
       "      <td>461.343769</td>\n",
       "    </tr>\n",
       "    <tr>\n",
       "      <th>4</th>\n",
       "      <td>121413</td>\n",
       "      <td>A</td>\n",
       "      <td>7</td>\n",
       "      <td>93.188512</td>\n",
       "      <td>12/22/2023 11:38</td>\n",
       "      <td>Cash</td>\n",
       "      <td>0070 Michelle Island Suite 143\\nHoland, VA 80142</td>\n",
       "      <td>Electronics</td>\n",
       "      <td>4.030096</td>\n",
       "      <td>626.030484</td>\n",
       "    </tr>\n",
       "    <tr>\n",
       "      <th>...</th>\n",
       "      <td>...</td>\n",
       "      <td>...</td>\n",
       "      <td>...</td>\n",
       "      <td>...</td>\n",
       "      <td>...</td>\n",
       "      <td>...</td>\n",
       "      <td>...</td>\n",
       "      <td>...</td>\n",
       "      <td>...</td>\n",
       "      <td>...</td>\n",
       "    </tr>\n",
       "    <tr>\n",
       "      <th>99995</th>\n",
       "      <td>726461</td>\n",
       "      <td>A</td>\n",
       "      <td>2</td>\n",
       "      <td>56.078258</td>\n",
       "      <td>7/17/2023 16:59</td>\n",
       "      <td>Credit Card</td>\n",
       "      <td>3632 Darren Station Apt. 553\\nEricaborough, RI...</td>\n",
       "      <td>Clothing</td>\n",
       "      <td>18.345145</td>\n",
       "      <td>91.581240</td>\n",
       "    </tr>\n",
       "    <tr>\n",
       "      <th>99996</th>\n",
       "      <td>328056</td>\n",
       "      <td>A</td>\n",
       "      <td>6</td>\n",
       "      <td>88.516406</td>\n",
       "      <td>5/30/2023 9:04</td>\n",
       "      <td>Credit Card</td>\n",
       "      <td>821 Taylor Shoals\\nEvansville, IL 70845</td>\n",
       "      <td>Electronics</td>\n",
       "      <td>3.995541</td>\n",
       "      <td>509.878179</td>\n",
       "    </tr>\n",
       "    <tr>\n",
       "      <th>99997</th>\n",
       "      <td>887304</td>\n",
       "      <td>B</td>\n",
       "      <td>4</td>\n",
       "      <td>72.385564</td>\n",
       "      <td>8/25/2023 7:59</td>\n",
       "      <td>Credit Card</td>\n",
       "      <td>50653 Kara Lakes\\nStephanieborough, RI 94492</td>\n",
       "      <td>Clothing</td>\n",
       "      <td>17.423979</td>\n",
       "      <td>239.092472</td>\n",
       "    </tr>\n",
       "    <tr>\n",
       "      <th>99998</th>\n",
       "      <td>326401</td>\n",
       "      <td>C</td>\n",
       "      <td>5</td>\n",
       "      <td>66.542239</td>\n",
       "      <td>2/5/2024 19:45</td>\n",
       "      <td>PayPal</td>\n",
       "      <td>18756 Mcfarland Way Suite 866\\nBarnettside, PR...</td>\n",
       "      <td>Electronics</td>\n",
       "      <td>14.345018</td>\n",
       "      <td>284.983717</td>\n",
       "    </tr>\n",
       "    <tr>\n",
       "      <th>99999</th>\n",
       "      <td>771566</td>\n",
       "      <td>C</td>\n",
       "      <td>5</td>\n",
       "      <td>38.087766</td>\n",
       "      <td>2/4/2024 11:53</td>\n",
       "      <td>Debit Card</td>\n",
       "      <td>8046 Hull Drive\\nPaulstad, GU 87218</td>\n",
       "      <td>Home Decor</td>\n",
       "      <td>2.966058</td>\n",
       "      <td>184.790305</td>\n",
       "    </tr>\n",
       "  </tbody>\n",
       "</table>\n",
       "<p>100000 rows × 10 columns</p>\n",
       "</div>"
      ],
      "text/plain": [
       "       CustomerID ProductID  Quantity      Price   TransactionDate  \\\n",
       "0          109318         C         7  80.079844  12/26/2023 12:32   \n",
       "1          993229         C         4  75.195229     8/5/2023 0:00   \n",
       "2          579675         A         8  31.528816   3/11/2024 18:51   \n",
       "3          799826         D         5  98.880218  10/27/2023 22:00   \n",
       "4          121413         A         7  93.188512  12/22/2023 11:38   \n",
       "...           ...       ...       ...        ...               ...   \n",
       "99995      726461         A         2  56.078258   7/17/2023 16:59   \n",
       "99996      328056         A         6  88.516406    5/30/2023 9:04   \n",
       "99997      887304         B         4  72.385564    8/25/2023 7:59   \n",
       "99998      326401         C         5  66.542239    2/5/2024 19:45   \n",
       "99999      771566         C         5  38.087766    2/4/2024 11:53   \n",
       "\n",
       "      PaymentMethod                                      StoreLocation  \\\n",
       "0              Cash            176 Andrew Cliffs\\nBaileyfort, HI 93354   \n",
       "1              Cash  11635 William Well Suite 809\\nEast Kara, MT 19483   \n",
       "2              Cash  910 Mendez Ville Suite 909\\nPort Lauraland, MO...   \n",
       "3            PayPal  87522 Sharon Corners Suite 500\\nLake Tammy, MO...   \n",
       "4              Cash   0070 Michelle Island Suite 143\\nHoland, VA 80142   \n",
       "...             ...                                                ...   \n",
       "99995   Credit Card  3632 Darren Station Apt. 553\\nEricaborough, RI...   \n",
       "99996   Credit Card            821 Taylor Shoals\\nEvansville, IL 70845   \n",
       "99997   Credit Card       50653 Kara Lakes\\nStephanieborough, RI 94492   \n",
       "99998        PayPal  18756 Mcfarland Way Suite 866\\nBarnettside, PR...   \n",
       "99999    Debit Card                8046 Hull Drive\\nPaulstad, GU 87218   \n",
       "\n",
       "      ProductCategory  DiscountApplied(%)  TotalAmount  \n",
       "0               Books           18.677100   455.862764  \n",
       "1          Home Decor           14.121365   258.306546  \n",
       "2               Books           15.943701   212.015651  \n",
       "3               Books            6.686337   461.343769  \n",
       "4         Electronics            4.030096   626.030484  \n",
       "...               ...                 ...          ...  \n",
       "99995        Clothing           18.345145    91.581240  \n",
       "99996     Electronics            3.995541   509.878179  \n",
       "99997        Clothing           17.423979   239.092472  \n",
       "99998     Electronics           14.345018   284.983717  \n",
       "99999      Home Decor            2.966058   184.790305  \n",
       "\n",
       "[100000 rows x 10 columns]"
      ]
     },
     "execution_count": 4,
     "metadata": {},
     "output_type": "execute_result"
    }
   ],
   "source": [
    "df = pd.read_csv(\"Retail_Transaction_Dataset.csv\")\n",
    "df"
   ]
  },
  {
   "cell_type": "code",
   "execution_count": 5,
   "id": "fcf13c24-a150-4562-afa6-975ddc148866",
   "metadata": {},
   "outputs": [
    {
     "name": "stdout",
     "output_type": "stream",
     "text": [
      "<class 'pandas.core.frame.DataFrame'>\n",
      "RangeIndex: 100000 entries, 0 to 99999\n",
      "Data columns (total 10 columns):\n",
      " #   Column              Non-Null Count   Dtype  \n",
      "---  ------              --------------   -----  \n",
      " 0   CustomerID          100000 non-null  int64  \n",
      " 1   ProductID           100000 non-null  object \n",
      " 2   Quantity            100000 non-null  int64  \n",
      " 3   Price               100000 non-null  float64\n",
      " 4   TransactionDate     100000 non-null  object \n",
      " 5   PaymentMethod       100000 non-null  object \n",
      " 6   StoreLocation       100000 non-null  object \n",
      " 7   ProductCategory     100000 non-null  object \n",
      " 8   DiscountApplied(%)  100000 non-null  float64\n",
      " 9   TotalAmount         100000 non-null  float64\n",
      "dtypes: float64(3), int64(2), object(5)\n",
      "memory usage: 7.6+ MB\n"
     ]
    }
   ],
   "source": [
    "df.info() #There isn't Any Nulls In This Dataset"
   ]
  },
  {
   "cell_type": "code",
   "execution_count": 6,
   "id": "5041eb7d-191d-4fb5-8ab7-c495eb910938",
   "metadata": {},
   "outputs": [
    {
     "data": {
      "text/html": [
       "<div>\n",
       "<style scoped>\n",
       "    .dataframe tbody tr th:only-of-type {\n",
       "        vertical-align: middle;\n",
       "    }\n",
       "\n",
       "    .dataframe tbody tr th {\n",
       "        vertical-align: top;\n",
       "    }\n",
       "\n",
       "    .dataframe thead th {\n",
       "        text-align: right;\n",
       "    }\n",
       "</style>\n",
       "<table border=\"1\" class=\"dataframe\">\n",
       "  <thead>\n",
       "    <tr style=\"text-align: right;\">\n",
       "      <th></th>\n",
       "      <th>CustomerID</th>\n",
       "      <th>Quantity</th>\n",
       "      <th>Price</th>\n",
       "      <th>DiscountApplied(%)</th>\n",
       "      <th>TotalAmount</th>\n",
       "    </tr>\n",
       "  </thead>\n",
       "  <tbody>\n",
       "    <tr>\n",
       "      <th>count</th>\n",
       "      <td>100000.000000</td>\n",
       "      <td>100000.000000</td>\n",
       "      <td>100000.000000</td>\n",
       "      <td>100000.000000</td>\n",
       "      <td>100000.000000</td>\n",
       "    </tr>\n",
       "    <tr>\n",
       "      <th>mean</th>\n",
       "      <td>500463.982180</td>\n",
       "      <td>5.009290</td>\n",
       "      <td>55.067344</td>\n",
       "      <td>10.020155</td>\n",
       "      <td>248.334955</td>\n",
       "    </tr>\n",
       "    <tr>\n",
       "      <th>std</th>\n",
       "      <td>288460.917524</td>\n",
       "      <td>2.579808</td>\n",
       "      <td>25.971567</td>\n",
       "      <td>5.779534</td>\n",
       "      <td>184.554792</td>\n",
       "    </tr>\n",
       "    <tr>\n",
       "      <th>min</th>\n",
       "      <td>14.000000</td>\n",
       "      <td>1.000000</td>\n",
       "      <td>10.000430</td>\n",
       "      <td>0.000046</td>\n",
       "      <td>8.274825</td>\n",
       "    </tr>\n",
       "    <tr>\n",
       "      <th>25%</th>\n",
       "      <td>250693.750000</td>\n",
       "      <td>3.000000</td>\n",
       "      <td>32.549474</td>\n",
       "      <td>5.001013</td>\n",
       "      <td>95.163418</td>\n",
       "    </tr>\n",
       "    <tr>\n",
       "      <th>50%</th>\n",
       "      <td>499679.000000</td>\n",
       "      <td>5.000000</td>\n",
       "      <td>55.116789</td>\n",
       "      <td>10.030353</td>\n",
       "      <td>200.368393</td>\n",
       "    </tr>\n",
       "    <tr>\n",
       "      <th>75%</th>\n",
       "      <td>751104.750000</td>\n",
       "      <td>7.000000</td>\n",
       "      <td>77.456763</td>\n",
       "      <td>15.018367</td>\n",
       "      <td>362.009980</td>\n",
       "    </tr>\n",
       "    <tr>\n",
       "      <th>max</th>\n",
       "      <td>999997.000000</td>\n",
       "      <td>9.000000</td>\n",
       "      <td>99.999284</td>\n",
       "      <td>19.999585</td>\n",
       "      <td>896.141242</td>\n",
       "    </tr>\n",
       "  </tbody>\n",
       "</table>\n",
       "</div>"
      ],
      "text/plain": [
       "          CustomerID       Quantity          Price  DiscountApplied(%)  \\\n",
       "count  100000.000000  100000.000000  100000.000000       100000.000000   \n",
       "mean   500463.982180       5.009290      55.067344           10.020155   \n",
       "std    288460.917524       2.579808      25.971567            5.779534   \n",
       "min        14.000000       1.000000      10.000430            0.000046   \n",
       "25%    250693.750000       3.000000      32.549474            5.001013   \n",
       "50%    499679.000000       5.000000      55.116789           10.030353   \n",
       "75%    751104.750000       7.000000      77.456763           15.018367   \n",
       "max    999997.000000       9.000000      99.999284           19.999585   \n",
       "\n",
       "         TotalAmount  \n",
       "count  100000.000000  \n",
       "mean      248.334955  \n",
       "std       184.554792  \n",
       "min         8.274825  \n",
       "25%        95.163418  \n",
       "50%       200.368393  \n",
       "75%       362.009980  \n",
       "max       896.141242  "
      ]
     },
     "execution_count": 6,
     "metadata": {},
     "output_type": "execute_result"
    }
   ],
   "source": [
    "df.describe() #I have No Wrong Data/Outlier"
   ]
  },
  {
   "cell_type": "code",
   "execution_count": 7,
   "id": "14f91f3d-a7c8-448d-b1d4-5dce2e9b238e",
   "metadata": {},
   "outputs": [
    {
     "data": {
      "text/plain": [
       "CustomerID            0\n",
       "ProductID             0\n",
       "Quantity              0\n",
       "Price                 0\n",
       "TransactionDate       0\n",
       "PaymentMethod         0\n",
       "StoreLocation         0\n",
       "ProductCategory       0\n",
       "DiscountApplied(%)    0\n",
       "TotalAmount           0\n",
       "dtype: int64"
      ]
     },
     "execution_count": 7,
     "metadata": {},
     "output_type": "execute_result"
    }
   ],
   "source": [
    "df.isnull().sum() #Double Checking Number Of Nulls"
   ]
  },
  {
   "cell_type": "code",
   "execution_count": 8,
   "id": "ce92db00-50cb-4e27-9f07-008f5f90a3ef",
   "metadata": {},
   "outputs": [
    {
     "name": "stdout",
     "output_type": "stream",
     "text": [
      "ProductCategory\n",
      "Clothing       25056\n",
      "Books          25031\n",
      "Electronics    24990\n",
      "Home Decor     24923\n",
      "Name: count, dtype: int64\n",
      "ProductID\n",
      "C    25209\n",
      "D    25042\n",
      "B    24997\n",
      "A    24752\n",
      "Name: count, dtype: int64\n"
     ]
    }
   ],
   "source": [
    "print(df[\"ProductCategory\"].value_counts()) #Checking Which Column Is More Valueable To Me\n",
    "print(df[\"ProductID\"].value_counts())"
   ]
  },
  {
   "cell_type": "code",
   "execution_count": 9,
   "id": "5c9b99d5-ac1f-4172-8cc3-47720602e79e",
   "metadata": {},
   "outputs": [
    {
     "data": {
      "text/plain": [
       "PaymentMethod\n",
       "PayPal         25067\n",
       "Credit Card    25034\n",
       "Cash           25008\n",
       "Debit Card     24891\n",
       "Name: count, dtype: int64"
      ]
     },
     "execution_count": 9,
     "metadata": {},
     "output_type": "execute_result"
    }
   ],
   "source": [
    "df[\"PaymentMethod\"].value_counts()"
   ]
  },
  {
   "cell_type": "code",
   "execution_count": 10,
   "id": "fa120da7-83d4-4c0b-9ee4-e1ab5b86a480",
   "metadata": {},
   "outputs": [
    {
     "name": "stdout",
     "output_type": "stream",
     "text": [
      "TransActionMonth\n",
      "7     8597\n",
      "1     8543\n",
      "8     8498\n",
      "12    8473\n",
      "3     8457\n",
      "5     8388\n",
      "10    8325\n",
      "11    8298\n",
      "6     8243\n",
      "9     8181\n",
      "2     8076\n",
      "4     7921\n",
      "Name: count, dtype: int64\n"
     ]
    },
    {
     "data": {
      "text/plain": [
       "0        12\n",
       "1         8\n",
       "2         3\n",
       "3        10\n",
       "4        12\n",
       "         ..\n",
       "99995     7\n",
       "99996     5\n",
       "99997     8\n",
       "99998     2\n",
       "99999     2\n",
       "Name: TransActionMonth, Length: 100000, dtype: int32"
      ]
     },
     "execution_count": 10,
     "metadata": {},
     "output_type": "execute_result"
    }
   ],
   "source": [
    "#Extracting Months From df[\"TransactionDate\"]\n",
    "df[\"TransactionDate\"] = pd.to_datetime(df[\"TransactionDate\"])\n",
    "df[\"TransActionMonth\"] = df[\"TransactionDate\"].dt.month\n",
    "print(df[\"TransActionMonth\"].value_counts())\n",
    "df[\"TransActionMonth\"]"
   ]
  },
  {
   "cell_type": "code",
   "execution_count": 11,
   "id": "1152302f-5150-49b6-9958-f9f354f8ed47",
   "metadata": {},
   "outputs": [
    {
     "data": {
      "text/plain": [
       "0                   176AndrewCliffs\\nBaileyfort,HI93354\n",
       "1            11635WilliamWellSuite809\\nEastKara,MT19483\n",
       "2         910MendezVilleSuite909\\nPortLauraland,MO99563\n",
       "3         87522SharonCornersSuite500\\nLakeTammy,MO76234\n",
       "4            0070MichelleIslandSuite143\\nHoland,VA80142\n",
       "                              ...                      \n",
       "99995    3632DarrenStationApt.553\\nEricaborough,RI37695\n",
       "99996               821TaylorShoals\\nEvansville,IL70845\n",
       "99997          50653KaraLakes\\nStephanieborough,RI94492\n",
       "99998    18756McfarlandWaySuite866\\nBarnettside,PR50529\n",
       "99999                   8046HullDrive\\nPaulstad,GU87218\n",
       "Name: StoreLocation, Length: 100000, dtype: object"
      ]
     },
     "execution_count": 11,
     "metadata": {},
     "output_type": "execute_result"
    }
   ],
   "source": [
    "#Reducing df[\"StoreLocation\"] Into One Word\n",
    "df[\"StoreLocation\"] = df[\"StoreLocation\"].str.replace(\" \", \"\") #Question 1: Should I remove \",\"s In Addresses?\n",
    "df[\"StoreLocation\"]"
   ]
  },
  {
   "cell_type": "code",
   "execution_count": 12,
   "id": "da785909-7dd3-4049-abf9-ba0070ebc3af",
   "metadata": {},
   "outputs": [
    {
     "name": "stdout",
     "output_type": "stream",
     "text": [
      "0        0\n",
      "1        3\n",
      "2        0\n",
      "3        0\n",
      "4        2\n",
      "        ..\n",
      "99995    1\n",
      "99996    2\n",
      "99997    1\n",
      "99998    2\n",
      "99999    3\n",
      "Name: ProductCategoryEncoded, Length: 100000, dtype: int32\n",
      "0        0\n",
      "1        0\n",
      "2        0\n",
      "3        3\n",
      "4        0\n",
      "        ..\n",
      "99995    1\n",
      "99996    1\n",
      "99997    1\n",
      "99998    3\n",
      "99999    2\n",
      "Name: PaymentMethodEncoded, Length: 100000, dtype: int32\n"
     ]
    }
   ],
   "source": [
    "#Changing df[\"ProductCategory\"] And df[\"PaymentMethod\"] Into Interger Values\n",
    "le = LabelEncoder()\n",
    "df[\"ProductCategoryEncoded\"] = le.fit_transform(df[\"ProductCategory\"])\n",
    "print(df[\"ProductCategoryEncoded\"])\n",
    "df[\"PaymentMethodEncoded\"] = le.fit_transform(df[\"PaymentMethod\"])\n",
    "print(df[\"PaymentMethodEncoded\"])"
   ]
  },
  {
   "cell_type": "code",
   "execution_count": 13,
   "id": "58db9bce-7469-4b5e-878e-a5e9e7638939",
   "metadata": {},
   "outputs": [],
   "source": [
    "#Unifying Data\n",
    "df\n",
    "for col in [\"Price\", \"Quantity\", \"StoreLocation\", \"ProductCategoryEncoded\", \"TransActionMonth\", \"PaymentMethodEncoded\", \"DiscountApplied(%)\", \"TotalAmount\"]:\n",
    "    df[col] = df[col].astype(str)\n",
    "    \n",
    "df[\"UnifiedFeatures\"] = df[\"Price\"] + \" \" + df[\"Quantity\"] + \" \" + df[\"StoreLocation\"] + \" \" + df[\"ProductCategoryEncoded\"] + \" \" + df[\"TransActionMonth\"] + \" \" + df[\"PaymentMethodEncoded\"] + \" \" + df[\"DiscountApplied(%)\"] + \" \" + df[\"TotalAmount\"]"
   ]
  },
  {
   "cell_type": "code",
   "execution_count": 14,
   "id": "f670ccad-bacb-414a-8a38-b77f4a1a59d5",
   "metadata": {},
   "outputs": [
    {
     "data": {
      "text/plain": [
       "0        80.07984415 7 176AndrewCliffs\\nBaileyfort,HI93...\n",
       "1        75.19522942 4 11635WilliamWellSuite809\\nEastKa...\n",
       "2        31.52881648 8 910MendezVilleSuite909\\nPortLaur...\n",
       "3        98.88021828 5 87522SharonCornersSuite500\\nLake...\n",
       "4        93.18851246 7 0070MichelleIslandSuite143\\nHola...\n",
       "                               ...                        \n",
       "99995    56.07825789 2 3632DarrenStationApt.553\\nEricab...\n",
       "99996    88.51640554 6 821TaylorShoals\\nEvansville,IL70...\n",
       "99997    72.38556379 4 50653KaraLakes\\nStephanieborough...\n",
       "99998    66.54223948 5 18756McfarlandWaySuite866\\nBarne...\n",
       "99999    38.08776628 5 8046HullDrive\\nPaulstad,GU87218 ...\n",
       "Name: UnifiedFeatures, Length: 100000, dtype: object"
      ]
     },
     "execution_count": 14,
     "metadata": {},
     "output_type": "execute_result"
    }
   ],
   "source": [
    "df[\"UnifiedFeatures\"]"
   ]
  },
  {
   "cell_type": "code",
   "execution_count": 15,
   "id": "d3e7067b-8872-4e7d-acb2-898dda3462a4",
   "metadata": {},
   "outputs": [
    {
     "data": {
      "text/plain": [
       "<100000x536163 sparse matrix of type '<class 'numpy.int64'>'\n",
       "\twith 887306 stored elements in Compressed Sparse Row format>"
      ]
     },
     "execution_count": 15,
     "metadata": {},
     "output_type": "execute_result"
    }
   ],
   "source": [
    "#Putting All Values Into One vector\n",
    "vectorizer = CountVectorizer()\n",
    "vector = vectorizer.fit_transform(df[\"UnifiedFeatures\"])\n",
    "vector"
   ]
  },
  {
   "cell_type": "code",
   "execution_count": 16,
   "id": "8be64203-dd68-490a-82c1-b236c44423ca",
   "metadata": {},
   "outputs": [],
   "source": [
    "#similarities = cosine_similarity(vector)\n",
    "\n",
    "#similarities #This Operation Couldn't Be Done Because Of Its Volume(MemoryError)"
   ]
  },
  {
   "cell_type": "code",
   "execution_count": 17,
   "id": "aa1a98e9-ba6e-437c-96d7-991f7ed069d6",
   "metadata": {},
   "outputs": [
    {
     "name": "stdout",
     "output_type": "stream",
     "text": [
      "[[    0 49084 35220 33537 59315 95596]\n",
      " [    1 47627 55063 14361 60277 27571]\n",
      " [    2 64053 61813 69940 79133 73013]\n",
      " ...\n",
      " [99997 98018 11195  6009 61119  7810]\n",
      " [99998 32051  9693  5860 39272 90755]\n",
      " [99999 11817 42850 76328 28616 80233]]\n",
      "155.58349347114563\n"
     ]
    }
   ],
   "source": [
    "#Finding Nearest Neighbors To Each Customer's Transaction\n",
    "start_time = time.time()\n",
    "nn = NearestNeighbors(n_neighbors=6, metric='cosine') \n",
    "nn.fit(vector)\n",
    "suggestion = nn.kneighbors(vector, return_distance=False)\n",
    "print(suggestion)\n",
    "end_time = time.time()\n",
    "duration = end_time - start_time\n",
    "print(duration)"
   ]
  },
  {
   "cell_type": "code",
   "execution_count": 37,
   "id": "1093209e-c9bf-4487-8b2e-b7f34aed6427",
   "metadata": {},
   "outputs": [
    {
     "name": "stdin",
     "output_type": "stream",
     "text": [
      "Enter your Customer ID: 121413\n"
     ]
    },
    {
     "name": "stdout",
     "output_type": "stream",
     "text": [
      "Top 5 suggestions for customer 121413:\n",
      "ProductID                       D\n",
      "Price                 93.06268665\n",
      "ProductCategory          Clothing\n",
      "DiscountApplied(%)    12.07834507\n",
      "Name: 65551, dtype: object\n",
      "ProductID                       B\n",
      "Price                 93.21287982\n",
      "ProductCategory       Electronics\n",
      "DiscountApplied(%)    0.129943597\n",
      "Name: 23932, dtype: object\n",
      "ProductID                       B\n",
      "Price                 93.24369373\n",
      "ProductCategory        Home Decor\n",
      "DiscountApplied(%)    12.21412892\n",
      "Name: 46487, dtype: object\n",
      "ProductID                       C\n",
      "Price                    13.36108\n",
      "ProductCategory             Books\n",
      "DiscountApplied(%)    12.07196599\n",
      "Name: 87373, dtype: object\n",
      "ProductID                       D\n",
      "Price                 93.17155697\n",
      "ProductCategory        Home Decor\n",
      "DiscountApplied(%)    12.95009525\n",
      "Name: 61873, dtype: object\n"
     ]
    }
   ],
   "source": [
    "#Finding Best Match To A Customer\n",
    "customer = int(input(\"Enter your Customer ID:\"))\n",
    "try:\n",
    "    customer_index =  df[df[\"CustomerID\"] == customer].index[0]\n",
    "    customer_df = np.c_[df[\"CustomerID\"], suggestion]\n",
    "    np.argsort(suggestion[customer_index])\n",
    "    top_indices = suggestion[customer_index]\n",
    "    print(f\"Top 5 suggestions for customer {customer}:\")\n",
    "    for i in top_indices[1:6]: \n",
    "        print(df.loc[i , [\"ProductID\", \"Price\", \"ProductCategory\", \"DiscountApplied(%)\"]])\n",
    "\n",
    "except:\n",
    "    print(\"Customer ID Not Found.\")"
   ]
  }
 ],
 "metadata": {
  "kernelspec": {
   "display_name": "Python 3 (ipykernel)",
   "language": "python",
   "name": "python3"
  },
  "language_info": {
   "codemirror_mode": {
    "name": "ipython",
    "version": 3
   },
   "file_extension": ".py",
   "mimetype": "text/x-python",
   "name": "python",
   "nbconvert_exporter": "python",
   "pygments_lexer": "ipython3",
   "version": "3.12.7"
  }
 },
 "nbformat": 4,
 "nbformat_minor": 5
}
